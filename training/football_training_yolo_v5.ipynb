{
 "cells": [
  {
   "cell_type": "code",
   "id": "initial_id",
   "metadata": {
    "collapsed": true,
    "ExecuteTime": {
     "end_time": "2024-06-07T16:15:38.044370Z",
     "start_time": "2024-06-07T16:14:30.813529Z"
    }
   },
   "source": [
    "!pip install ultralytics\n",
    "!pip install roboflow"
   ],
   "outputs": [
    {
     "name": "stdout",
     "output_type": "stream",
     "text": [
      "Requirement already satisfied: ultralytics in d:\\codes\\projects\\football_analysis\\.venv\\lib\\site-packages (8.2.28)\n",
      "Requirement already satisfied: matplotlib>=3.3.0 in d:\\codes\\projects\\football_analysis\\.venv\\lib\\site-packages (from ultralytics) (3.9.0)\n",
      "Requirement already satisfied: opencv-python>=4.6.0 in d:\\codes\\projects\\football_analysis\\.venv\\lib\\site-packages (from ultralytics) (4.10.0.82)\n",
      "Requirement already satisfied: pillow>=7.1.2 in d:\\codes\\projects\\football_analysis\\.venv\\lib\\site-packages (from ultralytics) (10.3.0)\n",
      "Requirement already satisfied: pyyaml>=5.3.1 in d:\\codes\\projects\\football_analysis\\.venv\\lib\\site-packages (from ultralytics) (6.0.1)\n",
      "Requirement already satisfied: requests>=2.23.0 in d:\\codes\\projects\\football_analysis\\.venv\\lib\\site-packages (from ultralytics) (2.32.3)\n",
      "Requirement already satisfied: scipy>=1.4.1 in d:\\codes\\projects\\football_analysis\\.venv\\lib\\site-packages (from ultralytics) (1.13.1)\n",
      "Requirement already satisfied: torch>=1.8.0 in d:\\codes\\projects\\football_analysis\\.venv\\lib\\site-packages (from ultralytics) (2.3.1)\n",
      "Requirement already satisfied: torchvision>=0.9.0 in d:\\codes\\projects\\football_analysis\\.venv\\lib\\site-packages (from ultralytics) (0.18.1)\n",
      "Requirement already satisfied: tqdm>=4.64.0 in d:\\codes\\projects\\football_analysis\\.venv\\lib\\site-packages (from ultralytics) (4.66.4)\n",
      "Requirement already satisfied: psutil in d:\\codes\\projects\\football_analysis\\.venv\\lib\\site-packages (from ultralytics) (5.9.8)\n",
      "Requirement already satisfied: py-cpuinfo in d:\\codes\\projects\\football_analysis\\.venv\\lib\\site-packages (from ultralytics) (9.0.0)\n",
      "Requirement already satisfied: pandas>=1.1.4 in d:\\codes\\projects\\football_analysis\\.venv\\lib\\site-packages (from ultralytics) (2.2.2)\n",
      "Requirement already satisfied: seaborn>=0.11.0 in d:\\codes\\projects\\football_analysis\\.venv\\lib\\site-packages (from ultralytics) (0.13.2)\n",
      "Requirement already satisfied: ultralytics-thop>=0.2.5 in d:\\codes\\projects\\football_analysis\\.venv\\lib\\site-packages (from ultralytics) (0.2.7)\n",
      "Requirement already satisfied: contourpy>=1.0.1 in d:\\codes\\projects\\football_analysis\\.venv\\lib\\site-packages (from matplotlib>=3.3.0->ultralytics) (1.2.1)\n",
      "Requirement already satisfied: cycler>=0.10 in d:\\codes\\projects\\football_analysis\\.venv\\lib\\site-packages (from matplotlib>=3.3.0->ultralytics) (0.12.1)\n",
      "Requirement already satisfied: fonttools>=4.22.0 in d:\\codes\\projects\\football_analysis\\.venv\\lib\\site-packages (from matplotlib>=3.3.0->ultralytics) (4.53.0)\n",
      "Requirement already satisfied: kiwisolver>=1.3.1 in d:\\codes\\projects\\football_analysis\\.venv\\lib\\site-packages (from matplotlib>=3.3.0->ultralytics) (1.4.5)\n",
      "Requirement already satisfied: numpy>=1.23 in d:\\codes\\projects\\football_analysis\\.venv\\lib\\site-packages (from matplotlib>=3.3.0->ultralytics) (1.26.4)\n",
      "Requirement already satisfied: packaging>=20.0 in d:\\codes\\projects\\football_analysis\\.venv\\lib\\site-packages (from matplotlib>=3.3.0->ultralytics) (24.0)\n",
      "Requirement already satisfied: pyparsing>=2.3.1 in d:\\codes\\projects\\football_analysis\\.venv\\lib\\site-packages (from matplotlib>=3.3.0->ultralytics) (3.1.2)\n",
      "Requirement already satisfied: python-dateutil>=2.7 in d:\\codes\\projects\\football_analysis\\.venv\\lib\\site-packages (from matplotlib>=3.3.0->ultralytics) (2.9.0.post0)\n",
      "Requirement already satisfied: pytz>=2020.1 in d:\\codes\\projects\\football_analysis\\.venv\\lib\\site-packages (from pandas>=1.1.4->ultralytics) (2024.1)\n",
      "Requirement already satisfied: tzdata>=2022.7 in d:\\codes\\projects\\football_analysis\\.venv\\lib\\site-packages (from pandas>=1.1.4->ultralytics) (2024.1)\n",
      "Requirement already satisfied: charset-normalizer<4,>=2 in d:\\codes\\projects\\football_analysis\\.venv\\lib\\site-packages (from requests>=2.23.0->ultralytics) (3.3.2)\n",
      "Requirement already satisfied: idna<4,>=2.5 in d:\\codes\\projects\\football_analysis\\.venv\\lib\\site-packages (from requests>=2.23.0->ultralytics) (3.7)\n",
      "Requirement already satisfied: urllib3<3,>=1.21.1 in d:\\codes\\projects\\football_analysis\\.venv\\lib\\site-packages (from requests>=2.23.0->ultralytics) (2.2.1)\n",
      "Requirement already satisfied: certifi>=2017.4.17 in d:\\codes\\projects\\football_analysis\\.venv\\lib\\site-packages (from requests>=2.23.0->ultralytics) (2024.6.2)\n",
      "Requirement already satisfied: filelock in d:\\codes\\projects\\football_analysis\\.venv\\lib\\site-packages (from torch>=1.8.0->ultralytics) (3.14.0)\n",
      "Requirement already satisfied: typing-extensions>=4.8.0 in d:\\codes\\projects\\football_analysis\\.venv\\lib\\site-packages (from torch>=1.8.0->ultralytics) (4.12.1)\n",
      "Requirement already satisfied: sympy in d:\\codes\\projects\\football_analysis\\.venv\\lib\\site-packages (from torch>=1.8.0->ultralytics) (1.12.1)\n",
      "Requirement already satisfied: networkx in d:\\codes\\projects\\football_analysis\\.venv\\lib\\site-packages (from torch>=1.8.0->ultralytics) (3.3)\n",
      "Requirement already satisfied: jinja2 in d:\\codes\\projects\\football_analysis\\.venv\\lib\\site-packages (from torch>=1.8.0->ultralytics) (3.1.4)\n",
      "Requirement already satisfied: fsspec in d:\\codes\\projects\\football_analysis\\.venv\\lib\\site-packages (from torch>=1.8.0->ultralytics) (2024.6.0)\n",
      "Requirement already satisfied: mkl<=2021.4.0,>=2021.1.1 in d:\\codes\\projects\\football_analysis\\.venv\\lib\\site-packages (from torch>=1.8.0->ultralytics) (2021.4.0)\n",
      "Requirement already satisfied: colorama in d:\\codes\\projects\\football_analysis\\.venv\\lib\\site-packages (from tqdm>=4.64.0->ultralytics) (0.4.6)\n",
      "Requirement already satisfied: intel-openmp==2021.* in d:\\codes\\projects\\football_analysis\\.venv\\lib\\site-packages (from mkl<=2021.4.0,>=2021.1.1->torch>=1.8.0->ultralytics) (2021.4.0)\n",
      "Requirement already satisfied: tbb==2021.* in d:\\codes\\projects\\football_analysis\\.venv\\lib\\site-packages (from mkl<=2021.4.0,>=2021.1.1->torch>=1.8.0->ultralytics) (2021.12.0)\n",
      "Requirement already satisfied: six>=1.5 in d:\\codes\\projects\\football_analysis\\.venv\\lib\\site-packages (from python-dateutil>=2.7->matplotlib>=3.3.0->ultralytics) (1.16.0)\n",
      "Requirement already satisfied: MarkupSafe>=2.0 in d:\\codes\\projects\\football_analysis\\.venv\\lib\\site-packages (from jinja2->torch>=1.8.0->ultralytics) (2.1.5)\n",
      "Requirement already satisfied: mpmath<1.4.0,>=1.1.0 in d:\\codes\\projects\\football_analysis\\.venv\\lib\\site-packages (from sympy->torch>=1.8.0->ultralytics) (1.3.0)\n",
      "Collecting roboflow\n",
      "  Downloading roboflow-1.1.31-py3-none-any.whl.metadata (9.3 kB)\n",
      "Collecting certifi==2023.7.22 (from roboflow)\n",
      "  Downloading certifi-2023.7.22-py3-none-any.whl.metadata (2.2 kB)\n",
      "Collecting chardet==4.0.0 (from roboflow)\n",
      "  Downloading chardet-4.0.0-py2.py3-none-any.whl.metadata (3.5 kB)\n",
      "Collecting cycler==0.10.0 (from roboflow)\n",
      "  Downloading cycler-0.10.0-py2.py3-none-any.whl.metadata (722 bytes)\n",
      "Collecting idna==2.10 (from roboflow)\n",
      "  Downloading idna-2.10-py2.py3-none-any.whl.metadata (9.1 kB)\n",
      "Requirement already satisfied: kiwisolver>=1.3.1 in d:\\codes\\projects\\football_analysis\\.venv\\lib\\site-packages (from roboflow) (1.4.5)\n",
      "Requirement already satisfied: matplotlib in d:\\codes\\projects\\football_analysis\\.venv\\lib\\site-packages (from roboflow) (3.9.0)\n",
      "Requirement already satisfied: numpy>=1.18.5 in d:\\codes\\projects\\football_analysis\\.venv\\lib\\site-packages (from roboflow) (1.26.4)\n",
      "Collecting opencv-python-headless==4.8.0.74 (from roboflow)\n",
      "  Downloading opencv_python_headless-4.8.0.74-cp37-abi3-win_amd64.whl.metadata (19 kB)\n",
      "Requirement already satisfied: Pillow>=7.1.2 in d:\\codes\\projects\\football_analysis\\.venv\\lib\\site-packages (from roboflow) (10.3.0)\n",
      "Requirement already satisfied: python-dateutil in d:\\codes\\projects\\football_analysis\\.venv\\lib\\site-packages (from roboflow) (2.9.0.post0)\n",
      "Collecting python-dotenv (from roboflow)\n",
      "  Downloading python_dotenv-1.0.1-py3-none-any.whl.metadata (23 kB)\n",
      "Requirement already satisfied: requests in d:\\codes\\projects\\football_analysis\\.venv\\lib\\site-packages (from roboflow) (2.32.3)\n",
      "Requirement already satisfied: six in d:\\codes\\projects\\football_analysis\\.venv\\lib\\site-packages (from roboflow) (1.16.0)\n",
      "Requirement already satisfied: urllib3>=1.26.6 in d:\\codes\\projects\\football_analysis\\.venv\\lib\\site-packages (from roboflow) (2.2.1)\n",
      "Requirement already satisfied: tqdm>=4.41.0 in d:\\codes\\projects\\football_analysis\\.venv\\lib\\site-packages (from roboflow) (4.66.4)\n",
      "Requirement already satisfied: PyYAML>=5.3.1 in d:\\codes\\projects\\football_analysis\\.venv\\lib\\site-packages (from roboflow) (6.0.1)\n",
      "Collecting requests-toolbelt (from roboflow)\n",
      "  Downloading requests_toolbelt-1.0.0-py2.py3-none-any.whl.metadata (14 kB)\n",
      "Collecting python-magic (from roboflow)\n",
      "  Downloading python_magic-0.4.27-py2.py3-none-any.whl.metadata (5.8 kB)\n",
      "Requirement already satisfied: colorama in d:\\codes\\projects\\football_analysis\\.venv\\lib\\site-packages (from tqdm>=4.41.0->roboflow) (0.4.6)\n",
      "Requirement already satisfied: contourpy>=1.0.1 in d:\\codes\\projects\\football_analysis\\.venv\\lib\\site-packages (from matplotlib->roboflow) (1.2.1)\n",
      "Requirement already satisfied: fonttools>=4.22.0 in d:\\codes\\projects\\football_analysis\\.venv\\lib\\site-packages (from matplotlib->roboflow) (4.53.0)\n",
      "Requirement already satisfied: packaging>=20.0 in d:\\codes\\projects\\football_analysis\\.venv\\lib\\site-packages (from matplotlib->roboflow) (24.0)\n",
      "Requirement already satisfied: pyparsing>=2.3.1 in d:\\codes\\projects\\football_analysis\\.venv\\lib\\site-packages (from matplotlib->roboflow) (3.1.2)\n",
      "Requirement already satisfied: charset-normalizer<4,>=2 in d:\\codes\\projects\\football_analysis\\.venv\\lib\\site-packages (from requests->roboflow) (3.3.2)\n",
      "Downloading roboflow-1.1.31-py3-none-any.whl (75 kB)\n",
      "   ---------------------------------------- 0.0/75.6 kB ? eta -:--:--\n",
      "   ---------------------------------------- 75.6/75.6 kB 2.0 MB/s eta 0:00:00\n",
      "Downloading certifi-2023.7.22-py3-none-any.whl (158 kB)\n",
      "   ---------------------------------------- 0.0/158.3 kB ? eta -:--:--\n",
      "   ---------------------------------------- 158.3/158.3 kB 9.3 MB/s eta 0:00:00\n",
      "Downloading chardet-4.0.0-py2.py3-none-any.whl (178 kB)\n",
      "   ---------------------------------------- 0.0/178.7 kB ? eta -:--:--\n",
      "   ---------------------------------------- 178.7/178.7 kB 5.3 MB/s eta 0:00:00\n",
      "Downloading cycler-0.10.0-py2.py3-none-any.whl (6.5 kB)\n",
      "Downloading idna-2.10-py2.py3-none-any.whl (58 kB)\n",
      "   ---------------------------------------- 0.0/58.8 kB ? eta -:--:--\n",
      "   ---------------------------------- ----- 51.2/58.8 kB ? eta -:--:--\n",
      "   ---------------------------------------- 58.8/58.8 kB 1.6 MB/s eta 0:00:00\n",
      "Downloading opencv_python_headless-4.8.0.74-cp37-abi3-win_amd64.whl (38.0 MB)\n",
      "   ---------------------------------------- 0.0/38.0 MB ? eta -:--:--\n",
      "   ---------------------------------------- 0.3/38.0 MB 17.3 MB/s eta 0:00:03\n",
      "    --------------------------------------- 0.5/38.0 MB 6.7 MB/s eta 0:00:06\n",
      "    --------------------------------------- 0.6/38.0 MB 5.4 MB/s eta 0:00:07\n",
      "    --------------------------------------- 0.8/38.0 MB 4.8 MB/s eta 0:00:08\n",
      "   - -------------------------------------- 1.1/38.0 MB 4.5 MB/s eta 0:00:09\n",
      "   - -------------------------------------- 1.3/38.0 MB 4.5 MB/s eta 0:00:09\n",
      "   - -------------------------------------- 1.5/38.0 MB 4.6 MB/s eta 0:00:08\n",
      "   - -------------------------------------- 1.8/38.0 MB 4.6 MB/s eta 0:00:08\n",
      "   -- ------------------------------------- 2.1/38.0 MB 4.6 MB/s eta 0:00:08\n",
      "   -- ------------------------------------- 2.3/38.0 MB 4.8 MB/s eta 0:00:08\n",
      "   -- ------------------------------------- 2.6/38.0 MB 4.7 MB/s eta 0:00:08\n",
      "   -- ------------------------------------- 2.7/38.0 MB 4.5 MB/s eta 0:00:08\n",
      "   --- ------------------------------------ 2.9/38.0 MB 4.6 MB/s eta 0:00:08\n",
      "   --- ------------------------------------ 3.0/38.0 MB 4.5 MB/s eta 0:00:08\n",
      "   --- ------------------------------------ 3.3/38.0 MB 4.5 MB/s eta 0:00:08\n",
      "   --- ------------------------------------ 3.5/38.0 MB 4.4 MB/s eta 0:00:08\n",
      "   --- ------------------------------------ 3.6/38.0 MB 4.4 MB/s eta 0:00:08\n",
      "   ---- ----------------------------------- 3.9/38.0 MB 4.3 MB/s eta 0:00:08\n",
      "   ---- ----------------------------------- 4.1/38.0 MB 4.4 MB/s eta 0:00:08\n",
      "   ---- ----------------------------------- 4.1/38.0 MB 4.1 MB/s eta 0:00:09\n",
      "   ---- ----------------------------------- 4.4/38.0 MB 4.2 MB/s eta 0:00:08\n",
      "   ---- ----------------------------------- 4.5/38.0 MB 4.3 MB/s eta 0:00:08\n",
      "   ----- ---------------------------------- 4.8/38.0 MB 4.3 MB/s eta 0:00:08\n",
      "   ----- ---------------------------------- 5.0/38.0 MB 4.3 MB/s eta 0:00:08\n",
      "   ----- ---------------------------------- 5.1/38.0 MB 4.2 MB/s eta 0:00:08\n",
      "   ----- ---------------------------------- 5.4/38.0 MB 4.3 MB/s eta 0:00:08\n",
      "   ----- ---------------------------------- 5.6/38.0 MB 4.3 MB/s eta 0:00:08\n",
      "   ------ --------------------------------- 5.9/38.0 MB 4.3 MB/s eta 0:00:08\n",
      "   ------ --------------------------------- 6.0/38.0 MB 4.3 MB/s eta 0:00:08\n",
      "   ------ --------------------------------- 6.2/38.0 MB 4.2 MB/s eta 0:00:08\n",
      "   ------ --------------------------------- 6.4/38.0 MB 4.2 MB/s eta 0:00:08\n",
      "   ------ --------------------------------- 6.6/38.0 MB 4.2 MB/s eta 0:00:08\n",
      "   ------- -------------------------------- 6.8/38.0 MB 4.3 MB/s eta 0:00:08\n",
      "   ------- -------------------------------- 7.0/38.0 MB 4.3 MB/s eta 0:00:08\n",
      "   ------- -------------------------------- 7.1/38.0 MB 4.3 MB/s eta 0:00:08\n",
      "   ------- -------------------------------- 7.1/38.0 MB 4.3 MB/s eta 0:00:08\n",
      "   ------- -------------------------------- 7.3/38.0 MB 4.0 MB/s eta 0:00:08\n",
      "   -------- ------------------------------- 7.8/38.0 MB 4.2 MB/s eta 0:00:08\n",
      "   -------- ------------------------------- 8.0/38.0 MB 4.2 MB/s eta 0:00:08\n",
      "   -------- ------------------------------- 8.3/38.0 MB 4.2 MB/s eta 0:00:08\n",
      "   -------- ------------------------------- 8.5/38.0 MB 4.2 MB/s eta 0:00:07\n",
      "   --------- ------------------------------ 8.6/38.0 MB 4.2 MB/s eta 0:00:07\n",
      "   --------- ------------------------------ 8.8/38.0 MB 4.2 MB/s eta 0:00:07\n",
      "   --------- ------------------------------ 9.1/38.0 MB 4.2 MB/s eta 0:00:07\n",
      "   --------- ------------------------------ 9.3/38.0 MB 4.2 MB/s eta 0:00:07\n",
      "   --------- ------------------------------ 9.5/38.0 MB 4.2 MB/s eta 0:00:07\n",
      "   ---------- ----------------------------- 10.2/38.0 MB 4.3 MB/s eta 0:00:07\n",
      "   ---------- ----------------------------- 10.4/38.0 MB 4.2 MB/s eta 0:00:07\n",
      "   ----------- ---------------------------- 10.8/38.0 MB 4.2 MB/s eta 0:00:07\n",
      "   ----------- ---------------------------- 11.1/38.0 MB 4.3 MB/s eta 0:00:07\n",
      "   ------------ --------------------------- 11.6/38.0 MB 4.1 MB/s eta 0:00:07\n",
      "   ------------ --------------------------- 11.8/38.0 MB 4.2 MB/s eta 0:00:07\n",
      "   ------------ --------------------------- 12.1/38.0 MB 4.1 MB/s eta 0:00:07\n",
      "   ------------- -------------------------- 12.4/38.0 MB 4.1 MB/s eta 0:00:07\n",
      "   ------------- -------------------------- 12.7/38.0 MB 4.1 MB/s eta 0:00:07\n",
      "   ------------- -------------------------- 12.9/38.0 MB 4.2 MB/s eta 0:00:07\n",
      "   ------------- -------------------------- 13.3/38.0 MB 4.2 MB/s eta 0:00:06\n",
      "   -------------- ------------------------- 13.6/38.0 MB 4.2 MB/s eta 0:00:06\n",
      "   -------------- ------------------------- 14.0/38.0 MB 4.2 MB/s eta 0:00:06\n",
      "   -------------- ------------------------- 14.2/38.0 MB 4.2 MB/s eta 0:00:06\n",
      "   --------------- ------------------------ 14.4/38.0 MB 4.3 MB/s eta 0:00:06\n",
      "   --------------- ------------------------ 14.5/38.0 MB 4.2 MB/s eta 0:00:06\n",
      "   --------------- ------------------------ 14.7/38.0 MB 4.3 MB/s eta 0:00:06\n",
      "   --------------- ------------------------ 14.9/38.0 MB 4.2 MB/s eta 0:00:06\n",
      "   --------------- ------------------------ 15.1/38.0 MB 4.2 MB/s eta 0:00:06\n",
      "   ---------------- ----------------------- 15.4/38.0 MB 4.3 MB/s eta 0:00:06\n",
      "   ---------------- ----------------------- 15.7/38.0 MB 4.2 MB/s eta 0:00:06\n",
      "   ---------------- ----------------------- 15.9/38.0 MB 4.3 MB/s eta 0:00:06\n",
      "   ----------------- ---------------------- 16.1/38.0 MB 4.3 MB/s eta 0:00:06\n",
      "   ----------------- ---------------------- 16.4/38.0 MB 4.3 MB/s eta 0:00:06\n",
      "   ----------------- ---------------------- 16.6/38.0 MB 4.4 MB/s eta 0:00:05\n",
      "   ----------------- ---------------------- 16.9/38.0 MB 4.4 MB/s eta 0:00:05\n",
      "   ------------------ --------------------- 17.2/38.0 MB 4.4 MB/s eta 0:00:05\n",
      "   ------------------ --------------------- 17.4/38.0 MB 4.6 MB/s eta 0:00:05\n",
      "   ------------------ --------------------- 17.7/38.0 MB 4.6 MB/s eta 0:00:05\n",
      "   ------------------ --------------------- 17.7/38.0 MB 4.5 MB/s eta 0:00:05\n",
      "   ------------------- -------------------- 18.2/38.0 MB 4.5 MB/s eta 0:00:05\n",
      "   ------------------- -------------------- 18.4/38.0 MB 4.5 MB/s eta 0:00:05\n",
      "   ------------------- -------------------- 18.5/38.0 MB 4.5 MB/s eta 0:00:05\n",
      "   ------------------- -------------------- 18.9/38.0 MB 4.5 MB/s eta 0:00:05\n",
      "   -------------------- ------------------- 19.1/38.0 MB 4.5 MB/s eta 0:00:05\n",
      "   -------------------- ------------------- 19.4/38.0 MB 4.5 MB/s eta 0:00:05\n",
      "   -------------------- ------------------- 19.6/38.0 MB 4.5 MB/s eta 0:00:05\n",
      "   -------------------- ------------------- 19.9/38.0 MB 4.6 MB/s eta 0:00:04\n",
      "   --------------------- ------------------ 20.0/38.0 MB 4.5 MB/s eta 0:00:04\n",
      "   --------------------- ------------------ 20.2/38.0 MB 4.5 MB/s eta 0:00:04\n",
      "   --------------------- ------------------ 20.5/38.0 MB 4.6 MB/s eta 0:00:04\n",
      "   --------------------- ------------------ 20.8/38.0 MB 4.6 MB/s eta 0:00:04\n",
      "   ---------------------- ----------------- 21.0/38.0 MB 4.6 MB/s eta 0:00:04\n",
      "   ---------------------- ----------------- 21.2/38.0 MB 4.6 MB/s eta 0:00:04\n",
      "   ---------------------- ----------------- 21.5/38.0 MB 4.7 MB/s eta 0:00:04\n",
      "   ---------------------- ----------------- 21.7/38.0 MB 4.6 MB/s eta 0:00:04\n",
      "   ---------------------- ----------------- 21.7/38.0 MB 4.6 MB/s eta 0:00:04\n",
      "   ----------------------- ---------------- 22.0/38.0 MB 4.6 MB/s eta 0:00:04\n",
      "   ----------------------- ---------------- 22.2/38.0 MB 4.6 MB/s eta 0:00:04\n",
      "   ------------------------ --------------- 22.8/38.0 MB 4.7 MB/s eta 0:00:04\n",
      "   ------------------------ --------------- 22.8/38.0 MB 4.6 MB/s eta 0:00:04\n",
      "   ------------------------ --------------- 22.9/38.0 MB 4.5 MB/s eta 0:00:04\n",
      "   ------------------------ --------------- 22.9/38.0 MB 4.5 MB/s eta 0:00:04\n",
      "   ------------------------ --------------- 22.9/38.0 MB 4.5 MB/s eta 0:00:04\n",
      "   ------------------------ --------------- 23.3/38.0 MB 4.3 MB/s eta 0:00:04\n",
      "   ------------------------ --------------- 23.5/38.0 MB 4.4 MB/s eta 0:00:04\n",
      "   ------------------------- -------------- 23.7/38.0 MB 4.3 MB/s eta 0:00:04\n",
      "   ------------------------- -------------- 24.0/38.0 MB 4.3 MB/s eta 0:00:04\n",
      "   ------------------------- -------------- 24.2/38.0 MB 4.1 MB/s eta 0:00:04\n",
      "   ------------------------- -------------- 24.4/38.0 MB 4.1 MB/s eta 0:00:04\n",
      "   -------------------------- ------------- 25.2/38.0 MB 4.3 MB/s eta 0:00:03\n",
      "   --------------------------- ------------ 25.6/38.0 MB 4.4 MB/s eta 0:00:03\n",
      "   --------------------------- ------------ 25.8/38.0 MB 4.3 MB/s eta 0:00:03\n",
      "   --------------------------- ------------ 26.4/38.0 MB 4.4 MB/s eta 0:00:03\n",
      "   ---------------------------- ----------- 26.7/38.0 MB 4.5 MB/s eta 0:00:03\n",
      "   ---------------------------- ----------- 27.0/38.0 MB 4.5 MB/s eta 0:00:03\n",
      "   ---------------------------- ----------- 27.3/38.0 MB 4.5 MB/s eta 0:00:03\n",
      "   ----------------------------- ---------- 27.6/38.0 MB 4.4 MB/s eta 0:00:03\n",
      "   ----------------------------- ---------- 28.1/38.0 MB 4.4 MB/s eta 0:00:03\n",
      "   ----------------------------- ---------- 28.4/38.0 MB 4.4 MB/s eta 0:00:03\n",
      "   ------------------------------ --------- 28.7/38.0 MB 4.4 MB/s eta 0:00:03\n",
      "   ------------------------------ --------- 29.1/38.0 MB 4.4 MB/s eta 0:00:03\n",
      "   ------------------------------ --------- 29.4/38.0 MB 4.5 MB/s eta 0:00:02\n",
      "   ------------------------------- -------- 29.7/38.0 MB 4.5 MB/s eta 0:00:02\n",
      "   ------------------------------- -------- 29.9/38.0 MB 4.5 MB/s eta 0:00:02\n",
      "   ------------------------------- -------- 29.9/38.0 MB 4.4 MB/s eta 0:00:02\n",
      "   ------------------------------- -------- 30.3/38.0 MB 4.5 MB/s eta 0:00:02\n",
      "   -------------------------------- ------- 30.5/38.0 MB 4.5 MB/s eta 0:00:02\n",
      "   -------------------------------- ------- 30.9/38.0 MB 4.5 MB/s eta 0:00:02\n",
      "   -------------------------------- ------- 31.1/38.0 MB 4.4 MB/s eta 0:00:02\n",
      "   --------------------------------- ------ 31.5/38.0 MB 4.5 MB/s eta 0:00:02\n",
      "   --------------------------------- ------ 31.7/38.0 MB 4.4 MB/s eta 0:00:02\n",
      "   --------------------------------- ------ 31.7/38.0 MB 4.4 MB/s eta 0:00:02\n",
      "   --------------------------------- ------ 32.0/38.0 MB 4.5 MB/s eta 0:00:02\n",
      "   --------------------------------- ------ 32.2/38.0 MB 4.5 MB/s eta 0:00:02\n",
      "   ---------------------------------- ----- 32.5/38.0 MB 4.5 MB/s eta 0:00:02\n",
      "   ---------------------------------- ----- 32.7/38.0 MB 4.5 MB/s eta 0:00:02\n",
      "   ---------------------------------- ----- 32.9/38.0 MB 4.4 MB/s eta 0:00:02\n",
      "   ---------------------------------- ----- 33.1/38.0 MB 4.5 MB/s eta 0:00:02\n",
      "   ----------------------------------- ---- 33.3/38.0 MB 4.8 MB/s eta 0:00:01\n",
      "   ----------------------------------- ---- 33.5/38.0 MB 4.7 MB/s eta 0:00:01\n",
      "   ----------------------------------- ---- 33.7/38.0 MB 4.7 MB/s eta 0:00:01\n",
      "   ----------------------------------- ---- 34.0/38.0 MB 4.8 MB/s eta 0:00:01\n",
      "   ------------------------------------ --- 34.2/38.0 MB 4.8 MB/s eta 0:00:01\n",
      "   ------------------------------------ --- 34.4/38.0 MB 5.0 MB/s eta 0:00:01\n",
      "   ------------------------------------ --- 34.7/38.0 MB 5.1 MB/s eta 0:00:01\n",
      "   ------------------------------------ --- 34.9/38.0 MB 5.0 MB/s eta 0:00:01\n",
      "   ------------------------------------ --- 34.9/38.0 MB 5.0 MB/s eta 0:00:01\n",
      "   ------------------------------------- -- 35.2/38.0 MB 4.9 MB/s eta 0:00:01\n",
      "   ------------------------------------- -- 35.5/38.0 MB 4.8 MB/s eta 0:00:01\n",
      "   ------------------------------------- -- 35.7/38.0 MB 4.7 MB/s eta 0:00:01\n",
      "   ------------------------------------- -- 35.8/38.0 MB 4.6 MB/s eta 0:00:01\n",
      "   ------------------------------------- -- 35.8/38.0 MB 4.6 MB/s eta 0:00:01\n",
      "   ------------------------------------- -- 36.0/38.0 MB 4.6 MB/s eta 0:00:01\n",
      "   -------------------------------------- - 36.1/38.0 MB 4.5 MB/s eta 0:00:01\n",
      "   -------------------------------------- - 36.6/38.0 MB 4.4 MB/s eta 0:00:01\n",
      "   ---------------------------------------  37.2/38.0 MB 4.4 MB/s eta 0:00:01\n",
      "   ---------------------------------------  37.4/38.0 MB 4.5 MB/s eta 0:00:01\n",
      "   ---------------------------------------  37.7/38.0 MB 4.5 MB/s eta 0:00:01\n",
      "   ---------------------------------------  37.9/38.0 MB 4.5 MB/s eta 0:00:01\n",
      "   ---------------------------------------  37.9/38.0 MB 4.5 MB/s eta 0:00:01\n",
      "   ---------------------------------------  37.9/38.0 MB 4.5 MB/s eta 0:00:01\n",
      "   ---------------------------------------  37.9/38.0 MB 4.5 MB/s eta 0:00:01\n",
      "   ---------------------------------------  37.9/38.0 MB 4.5 MB/s eta 0:00:01\n",
      "   ---------------------------------------  37.9/38.0 MB 4.5 MB/s eta 0:00:01\n",
      "   ---------------------------------------  37.9/38.0 MB 4.5 MB/s eta 0:00:01\n",
      "   ---------------------------------------  37.9/38.0 MB 4.5 MB/s eta 0:00:01\n",
      "   ---------------------------------------  37.9/38.0 MB 4.5 MB/s eta 0:00:01\n",
      "   ---------------------------------------- 38.0/38.0 MB 3.8 MB/s eta 0:00:00\n",
      "Downloading python_dotenv-1.0.1-py3-none-any.whl (19 kB)\n",
      "Downloading python_magic-0.4.27-py2.py3-none-any.whl (13 kB)\n",
      "Downloading requests_toolbelt-1.0.0-py2.py3-none-any.whl (54 kB)\n",
      "   ---------------------------------------- 0.0/54.5 kB ? eta -:--:--\n",
      "   ------------------------------------- -- 51.2/54.5 kB 2.7 MB/s eta 0:00:01\n",
      "   ---------------------------------------- 54.5/54.5 kB 961.8 kB/s eta 0:00:00\n",
      "Installing collected packages: python-magic, python-dotenv, opencv-python-headless, idna, cycler, chardet, certifi, requests-toolbelt, roboflow\n",
      "  Attempting uninstall: idna\n",
      "    Found existing installation: idna 3.7\n",
      "    Uninstalling idna-3.7:\n",
      "      Successfully uninstalled idna-3.7\n",
      "  Attempting uninstall: cycler\n",
      "    Found existing installation: cycler 0.12.1\n",
      "    Uninstalling cycler-0.12.1:\n",
      "      Successfully uninstalled cycler-0.12.1\n",
      "  Attempting uninstall: certifi\n",
      "    Found existing installation: certifi 2024.6.2\n",
      "    Uninstalling certifi-2024.6.2:\n",
      "      Successfully uninstalled certifi-2024.6.2\n",
      "Successfully installed certifi-2023.7.22 chardet-4.0.0 cycler-0.10.0 idna-2.10 opencv-python-headless-4.8.0.74 python-dotenv-1.0.1 python-magic-0.4.27 requests-toolbelt-1.0.0 roboflow-1.1.31\n"
     ]
    },
    {
     "name": "stderr",
     "output_type": "stream",
     "text": [
      "WARNING: The candidate selected for download or install is a yanked version: 'opencv-python-headless' candidate (version 4.8.0.74 at https://files.pythonhosted.org/packages/60/e7/a6dedca760db7a4686fd3b6053487ad4ad4d8f0591295dc8a9cf35269c42/opencv_python_headless-4.8.0.74-cp37-abi3-win_amd64.whl (from https://pypi.org/simple/opencv-python-headless/) (requires-python:>=3.6))\n",
      "Reason for being yanked: deprecated, use 4.8.0.76\n"
     ]
    }
   ],
   "execution_count": 1
  },
  {
   "metadata": {},
   "cell_type": "markdown",
   "source": "Get Dataset",
   "id": "b1cb27e26b75946"
  },
  {
   "metadata": {
    "ExecuteTime": {
     "end_time": "2024-06-07T16:18:10.271506Z",
     "start_time": "2024-06-07T16:15:38.503096Z"
    }
   },
   "cell_type": "code",
   "source": [
    "from roboflow import Roboflow\n",
    "rf = Roboflow(api_key=\"Pw29ZwQeKJBxpnLeSNUu\")\n",
    "project = rf.workspace(\"roboflow-jvuqo\").project(\"football-players-detection-3zvbc\")\n",
    "version = project.version(1)\n",
    "dataset = version.download(\"yolov5\")\n"
   ],
   "id": "268c787259e408fd",
   "outputs": [
    {
     "name": "stdout",
     "output_type": "stream",
     "text": [
      "loading Roboflow workspace...\n",
      "loading Roboflow project...\n"
     ]
    },
    {
     "name": "stderr",
     "output_type": "stream",
     "text": [
      "Downloading Dataset Version Zip in football-players-detection-1 to yolov5pytorch:: 100%|██████████| 148663/148663 [02:08<00:00, 1158.53it/s]"
     ]
    },
    {
     "name": "stdout",
     "output_type": "stream",
     "text": [
      "\n"
     ]
    },
    {
     "name": "stderr",
     "output_type": "stream",
     "text": [
      "\n",
      "Extracting Dataset Version Zip to football-players-detection-1 in yolov5pytorch:: 100%|██████████| 1338/1338 [00:05<00:00, 232.58it/s]\n"
     ]
    }
   ],
   "execution_count": 2
  },
  {
   "metadata": {
    "ExecuteTime": {
     "end_time": "2024-06-07T16:50:10.189115Z",
     "start_time": "2024-06-07T16:50:09.962062Z"
    }
   },
   "cell_type": "code",
   "source": "dataset.location",
   "id": "8a820e591a33fb66",
   "outputs": [
    {
     "data": {
      "text/plain": [
       "'D:\\\\Codes\\\\Projects\\\\Football_Analysis\\\\training\\\\football-players-detection-1'"
      ]
     },
     "execution_count": 3,
     "metadata": {},
     "output_type": "execute_result"
    }
   ],
   "execution_count": 3
  },
  {
   "metadata": {
    "ExecuteTime": {
     "end_time": "2024-06-07T16:57:31.204590Z",
     "start_time": "2024-06-07T16:57:23.102947Z"
    }
   },
   "cell_type": "code",
   "source": [
    "import shutil\n",
    "\n",
    "shutil.move('football-players-detection-1/train',\n",
    "            'football-players-detection-1/football-players-detection-1/train'\n",
    "            )\n",
    "shutil.move('football-players-detection-1/test',\n",
    "            'football-players-detection-1/football-players-detection-1/test'\n",
    "            )\n",
    "shutil.move('football-players-detection-1/valid',\n",
    "            'football-players-detection-1/football-players-detection-1/valid'\n",
    "            )"
   ],
   "id": "dcc84512845d27a",
   "outputs": [
    {
     "data": {
      "text/plain": [
       "'football-players-detection-1/football-players-detection-1/valid'"
      ]
     },
     "execution_count": 4,
     "metadata": {},
     "output_type": "execute_result"
    }
   ],
   "execution_count": 4
  },
  {
   "metadata": {},
   "cell_type": "markdown",
   "source": "Training",
   "id": "78597ed1d47ffb5"
  },
  {
   "metadata": {},
   "cell_type": "code",
   "outputs": [],
   "execution_count": null,
   "source": [
    "from ultralytics.models import yolo\n",
    "\n",
    "!yolo task=detect mode=train model=yolov5l.pt data=(dataset.location)/data.yaml epoch=100 imgsz=640"
   ],
   "id": "c5f90fa565475461"
  },
  {
   "metadata": {},
   "cell_type": "markdown",
   "source": "For training, we will use Google collab",
   "id": "5b2c8ab1ebd4258"
  }
 ],
 "metadata": {
  "kernelspec": {
   "display_name": "Python 3",
   "language": "python",
   "name": "python3"
  },
  "language_info": {
   "codemirror_mode": {
    "name": "ipython",
    "version": 2
   },
   "file_extension": ".py",
   "mimetype": "text/x-python",
   "name": "python",
   "nbconvert_exporter": "python",
   "pygments_lexer": "ipython2",
   "version": "2.7.6"
  }
 },
 "nbformat": 4,
 "nbformat_minor": 5
}
